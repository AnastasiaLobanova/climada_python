{
 "cells": [
  {
   "cell_type": "markdown",
   "metadata": {},
   "source": [
    "# climada III: Hazard and TropCyclone (using xarray and pint)\n",
    "\n",
    "Prepared by G. Aznar Siguan"
   ]
  },
  {
   "cell_type": "markdown",
   "metadata": {},
   "source": [
    "# Hazard class\n",
    "\n",
    "A Hazard contains the following information:\n",
    "\n",
    "- tag (TagHazard): information about the source\n",
    "- units (str): units of the intensity\n",
    "- centroids (Centroids): centroids of the events\n",
    "- event_id (np.array): id (>0) of each event\n",
    "- event_name (list(str)): name of each event (default: event_id)\n",
    "- date (np.array): integer date corresponding to the proleptic Gregorian ordinal, where January 1 of year 1 has ordinal 1 (ordinal format of datetime library)\n",
    "- frequency (np.array): frequency of each event in seconds\n",
    "- orig_event (np.array): flags indicating historical events (True) or probabilistic (False)\n",
    "- intensity (sparse.csr_matrix): intensity of the events at centroids\n",
    "- fraction (sparse.csr_matrix): fraction of affected exposures for each event at each centroid\n",
    "\n",
    "The `intensity` and `fraction` variables are sparse matrices of size num_events x num_centroids. The sparse matrix is an object defined in the scipy library. There are different types (row-wise, column-wise, linked-lists, ...) and functions that can be used with them: https://docs.scipy.org/doc/scipy/reference/sparse.html.\n",
    "\n",
    "Like with the other climada classes, a `Hazard` can be filled from a file as follows:"
   ]
  },
  {
   "cell_type": "code",
   "execution_count": null,
   "metadata": {},
   "outputs": [],
   "source": [
    "% matplotlib inline\n",
    "from climada import Hazard, HAZ_DEMO_MAT\n",
    "# Unlike in other climada classes, Hazard needs to know the acronym of the hazard type in first place!!!\n",
    "haz_tc_fl = Hazard('TC', HAZ_DEMO_MAT, 'Historic and synthetic tropical cyclones in Florida from 1851 to 2011.')\n",
    "print()\n",
    "print('Absolute file path of file read:', haz_tc_fl.tag.file_name)\n",
    "print()\n",
    "print('Hazard info:')\n",
    "print(haz_tc_fl)"
   ]
  },
  {
   "cell_type": "markdown",
   "metadata": {},
   "source": [
    "It has three different plot functions: `plot_intensity()`, `plot_fraction()`and `plot_stats()`. Depending on the inputs, different properties can be visualized. Check the documentation of a function:"
   ]
  },
  {
   "cell_type": "code",
   "execution_count": null,
   "metadata": {},
   "outputs": [],
   "source": [
    "help(haz_tc_fl.plot_intensity)\n",
    "help(haz_tc_fl.plot_stats)"
   ]
  },
  {
   "cell_type": "markdown",
   "metadata": {},
   "source": [
    "### EXERCICE\n",
    "\n",
    "Plot:\n",
    "\n",
    "1. intensities of the largest event\n",
    "2. maximum intensities at each centroid\n",
    "3. intensities of event HAZEL\n",
    "4. tropical cyclone intensities maps for the return periods [10, 50, 75, 100]\n",
    "5. intensities of all the events in centroid with id 50\n",
    "6. intensities of all the events in centroid closest to lat, lon = (26.5, -81)"
   ]
  },
  {
   "cell_type": "code",
   "execution_count": null,
   "metadata": {},
   "outputs": [],
   "source": [
    "# Put your code here\n",
    "\n",
    "\n",
    "\n"
   ]
  },
  {
   "cell_type": "code",
   "execution_count": null,
   "metadata": {},
   "outputs": [],
   "source": [
    "# SOLUTION:\n",
    "\n",
    "# 1. intensities of the largest event:\n",
    "haz_tc_fl.plot_intensity(event=-1)\n",
    "\n",
    "# 2. maximum intensities at each centroid:\n",
    "haz_tc_fl.plot_intensity(event=0)\n",
    "\n",
    "# 3. intensities of event HAZEL:\n",
    "haz_tc_fl.plot_intensity(event='HAZEL', cmap='BuGn') # setting color map\n",
    "\n",
    "# 4. tropical cyclone intensities maps for the return periods [10, 50, 75, 100]\n",
    "_, _, res = haz_tc_fl.plot_stats([10, 50, 75, 100])\n",
    "\n",
    "# 5. intensities of all the events in centroid with id 50\n",
    "haz_tc_fl.plot_intensity(centr=50)\n",
    "\n",
    "# 5. intensities of all the events in centroid closest to lat, lon = (26.5, -81)\n",
    "haz_tc_fl.plot_intensity(centr=(26.5, -81));"
   ]
  },
  {
   "cell_type": "markdown",
   "metadata": {},
   "source": [
    "The following methods can be used to analyse the data in `Hazard`:\n",
    "\n",
    "- `calc_year_set()` method returns a dictionary with all the historical (not synthetic) event ids that happened at each year. \n",
    "- `get_date_strings()` returns strings of dates in ISO format.\n",
    "- To obtain the relation between event ids and event names, two methods can be used `event_id_to_name()` and `event_name_to_id()`. \n",
    "\n",
    "Finally, the methods `clear()` and `append()` are used to reinitialize the data in the `Hazard` instance and to expand the data with data from an other `Hazard`, respectively.\n",
    "\n",
    "### EXERCISE:\n",
    "\n",
    "1. How many hurricanes with the name `HAZEL` have happened in Florida? When did they take place?\n",
    "2. How many tropical cyclones occured in year 2000?"
   ]
  },
  {
   "cell_type": "code",
   "execution_count": null,
   "metadata": {},
   "outputs": [],
   "source": [
    "# Put your code here:\n",
    "\n",
    "\n",
    "\n"
   ]
  },
  {
   "cell_type": "code",
   "execution_count": null,
   "metadata": {},
   "outputs": [],
   "source": [
    "# SOLUTION:\n",
    "\n",
    "# 1. How many hurricanes with the name `HAZEL` have happened in Florida? When did they take place?\n",
    "print('Number of events HAZEL:', haz_tc_fl.event_name_to_id('HAZEL').size)\n",
    "print('Occurence of events HAZEL:', haz_tc_fl.get_date_strings('HAZEL'))\n",
    "\n",
    "# 2. Which is the year where more tropical cyclones have occured?\n",
    "# First we compute the events per year\n",
    "year_set = haz_tc_fl.calc_year_set()\n",
    "print('Number of events in 2000:', year_set[2000].size)"
   ]
  },
  {
   "cell_type": "markdown",
   "metadata": {},
   "source": [
    "# Tropical Cyclone tracks\n",
    "\n",
    "The `trop_cyclone` module contains the definition of the `TropCyclone` class and functions to read and deal with tropical cyclone tracks of the [IBTrACS](https://www.ncdc.noaa.gov/ibtracs/) repository. Executing the help function on the module all the classes and public functions of the module are described."
   ]
  },
  {
   "cell_type": "code",
   "execution_count": null,
   "metadata": {},
   "outputs": [],
   "source": [
    "from climada import trop_cyclone\n",
    "help(trop_cyclone)"
   ]
  },
  {
   "cell_type": "markdown",
   "metadata": {},
   "source": [
    "The functions `read_ibtracs()`, `interp_track()`, `calc_random_walk()` and `gust_from_track()` deal directly with tracks, without having to deal with the `TropCyclone` class. At higher level, however, it's more convenient to let the `TropCyclone` class (explained [below](#TropCyclone-class)) to deal with all those functions automatically. \n",
    "\n",
    "A tropical cyclone track information is stored in a `Dataset` of the xarray library."
   ]
  },
  {
   "cell_type": "markdown",
   "metadata": {},
   "source": [
    "## On xarray\n",
    "\n",
    "Xarray's `DataArrays` is xarray’s implementation of a labeled, multi-dimensional array. The data is described for every defined coordinate.\n",
    "\n",
    "Example:"
   ]
  },
  {
   "cell_type": "code",
   "execution_count": null,
   "metadata": {},
   "outputs": [],
   "source": [
    "import pandas as pd\n",
    "import xarray as xr\n",
    "import numpy as np\n",
    "\n",
    "# Coordinates:\n",
    "locs = ['IA', 'IL', 'IN'] # spatial\n",
    "times = pd.date_range('2000-01-01', periods=4) # temporal\n",
    "\n",
    "# Data\n",
    "obs = np.random.rand(4, 3) # time x space\n",
    "\n",
    "# DataArray definition\n",
    "foo = xr.DataArray(obs, coords=[times, locs], dims=['time', 'space'])\n",
    "\n",
    "print('Whole DataArray: \\n', foo)\n",
    "print()\n",
    "print('Select time: \\n', foo.time)\n",
    "print()\n",
    "print('The values of a DataArray ar numpy.arrays: \\n', foo.values)"
   ]
  },
  {
   "cell_type": "markdown",
   "metadata": {},
   "source": [
    "Xarray's `Dataset` is multi-dimensional equivalent of a pandas `DataFrame` (see previous [DataFrame](Hands-on_III.ipynb#On-pandas)'s short description). Here both the data and coordinates are dict-like containers of `DataArray`.\n",
    "\n",
    "Example:"
   ]
  },
  {
   "cell_type": "code",
   "execution_count": null,
   "metadata": {},
   "outputs": [],
   "source": [
    "# Coordinates:\n",
    "times = pd.date_range('2014-09-06', periods=5, freq='12H') # temporal\n",
    "lon = [[-99.83, -99.32], [-99.79, -99.23]] # spatial first dim\n",
    "lat = [[42.25, 42.21], [42.63, 42.59]]     # spatial second dim\n",
    "\n",
    "# Data\n",
    "temp = 15 + 8 * np.random.randn(2, 2, 5)\n",
    "precip = 10 * np.random.rand(2, 2, 5)\n",
    "\n",
    "ds = xr.Dataset({'temperature': (['x', 'y', 'time'],  temp),\n",
    "                 'precipitation': (['x', 'y', 'time'], precip)},\n",
    "                 coords={'lon': (['x', 'y'], lon),\n",
    "                         'lat': (['x', 'y'], lat),\n",
    "                         'time': times},\n",
    "                 attrs={'t_unit': 'C'})\n",
    "\n",
    "print('Whole Dataset: \\n', ds)\n",
    "print()\n",
    "print('Select temperature: \\n', ds.temperature)\n",
    "print()\n",
    "print('Select longitude: \\n', ds.lon)\n",
    "print()\n",
    "print('Select latitude array: \\n', ds.lat.values)"
   ]
  },
  {
   "cell_type": "markdown",
   "metadata": {},
   "source": [
    "The syntax used for querying or plotting Datasets is similar to the one used in DataFrames. \n",
    "\n",
    "Example:"
   ]
  },
  {
   "cell_type": "code",
   "execution_count": null,
   "metadata": {},
   "outputs": [],
   "source": [
    "# Compute mean temperature and precipitation per day:\n",
    "print('Daily mean temperature and precipitation: \\n', ds.groupby('time.day').mean())\n",
    "print()\n",
    "# Plot temperature time series in coord (x,y) = (1,0)\n",
    "ds.temperature.isel(x=1, y=0).plot()"
   ]
  },
  {
   "cell_type": "markdown",
   "metadata": {},
   "source": [
    "More on xarray: http://xarray.pydata.org/en/stable/data-structures.html"
   ]
  },
  {
   "cell_type": "markdown",
   "metadata": {},
   "source": [
    "## Back to Tropical Cyclone tracks"
   ]
  },
  {
   "cell_type": "markdown",
   "metadata": {},
   "source": [
    "### EXERCISE\n",
    "\n",
    "Read \"trac_brb_test.csv\" file containing a tropical cyclone track in Barbados. \n"
   ]
  },
  {
   "cell_type": "code",
   "execution_count": null,
   "metadata": {},
   "outputs": [],
   "source": [
    "from climada import DATA_DIR\n",
    "import os\n",
    "BRB_TRACK = os.path.join(DATA_DIR, 'test', \"trac_brb_test.csv\")\n",
    "\n",
    "# Put your code here\n",
    "\n",
    "\n"
   ]
  },
  {
   "cell_type": "code",
   "execution_count": null,
   "metadata": {},
   "outputs": [],
   "source": [
    "# SOLUTION:\n",
    "from climada import DATA_DIR\n",
    "import os\n",
    "# 1.Read \"trac_brb_test.csv\" file containing a tropical cyclone track in Barbados. \n",
    "BRB_TRACK = os.path.join(DATA_DIR, 'test', \"trac_brb_test.csv\")\n",
    "tc_track_brb = trop_cyclone.read_ibtracs(BRB_TRACK)\n",
    "tc_track_brb"
   ]
  },
  {
   "cell_type": "markdown",
   "metadata": {},
   "source": [
    "The dimensions defined in the tropical cyclone track are different to those of usual weather observations (as the data used in [On xarray](#On-xarray)). We don't have a fixed location (x, y) and different measures at different times, but only an observation which is taken at a different locations for each time. This is the reason why the tracks only have one dimension, the time. However, different coordinates can be still defined: lat and lon for every time."
   ]
  },
  {
   "cell_type": "markdown",
   "metadata": {},
   "source": [
    "### EXERCISE\n",
    "\n",
    "Using the previous tropical cyclone track,\n",
    "\n",
    "1. Which is the time frequency of the data?\n",
    "2. Compute the maximum sustained wind for each day.\n",
    "3. Linearly interpolate the Dataset's data to a frequency of 1 hour."
   ]
  },
  {
   "cell_type": "code",
   "execution_count": null,
   "metadata": {},
   "outputs": [],
   "source": [
    "# Put your code here\n",
    "\n",
    "\n",
    "\n"
   ]
  },
  {
   "cell_type": "code",
   "execution_count": null,
   "metadata": {},
   "outputs": [],
   "source": [
    "# SOLUTION:\n",
    "import numpy as np\n",
    "# 1. Which is the time frequency of the data?\n",
    "# Since there are few elements, one can see with the naked eye that the frequence is 6 hours\n",
    "# It can also be computed:\n",
    "# The values of a DataArray are numpy.arrays. \n",
    "# The nummpy.ediff1d computes the different between elements in an array\n",
    "diff_time_ns = np.ediff1d(tc_track_brb.time)\n",
    "# pint library would offer a more elegant solution, as shown below\n",
    "diff_time_h = diff_time_ns.astype(int)/1000/1000/1000/60/60\n",
    "print('Mean time frequency in hours:', diff_time_h.mean())\n",
    "print('Std time frequency in hours:', diff_time_h.std())\n",
    "print()\n",
    "\n",
    "# 2. Compute the maximum sustained wind for each day.\n",
    "print('Daily max sustained wind:', tc_track_brb.max_sustained_wind.groupby('time.day').max())\n",
    "print()\n",
    "\n",
    "# 3. Linearly interpolate the Dataset's data to a frequency of 1 hour.\n",
    "# Most of Pandas DataFrame functionalities work for xarray Dataset. For example, the resample method:\n",
    "#https://pandas.pydata.org/pandas-docs/stable/generated/pandas.DataFrame.resample.html   \n",
    "print('Interpolated Dataset:')\n",
    "tc_track_brb.resample(time='1H').interpolate('linear')"
   ]
  },
  {
   "cell_type": "markdown",
   "metadata": {},
   "source": [
    "## On pint"
   ]
  },
  {
   "cell_type": "markdown",
   "metadata": {},
   "source": [
    "Pint ia a package to define, operate and manipulate physical quantities: the product of a numerical value and a unit of measurement. \n",
    "\n",
    "Example: The change of unit from ns to hours performed in the previous exercise can be done with pint, avoiding to use hardcoded numbers in your code and defining all the variables for changes of units."
   ]
  },
  {
   "cell_type": "code",
   "execution_count": null,
   "metadata": {},
   "outputs": [],
   "source": [
    "from pint import UnitRegistry\n",
    "ureg = UnitRegistry()\n",
    "\n",
    "# Scalar change of unit\n",
    "val_in_ns = 21600000000000 * ureg.ns # Define your quantity with magnitude and unit\n",
    "val_in_h = val_in_ns.to(ureg.hour)   # Change to an other unit\n",
    "print('Value in hours:', val_in_h)\n",
    "print('Magnitude in hours:', val_in_h.magnitude)\n",
    "\n",
    "# Array change of unit\n",
    "array_ns = diff_time_ns.astype(int)*ureg.ns # Define your quantity with magnitude and unit\n",
    "array_h = array_ns.to(ureg.hour).magnitude  # Change to an other unit and get the magnitude (without the unit)\n",
    "print('Array in hours:', array_h)"
   ]
  },
  {
   "cell_type": "markdown",
   "metadata": {},
   "source": [
    "More on pint: https://pint.readthedocs.io/en/latest/"
   ]
  },
  {
   "cell_type": "markdown",
   "metadata": {},
   "source": [
    "# TropCyclone class"
   ]
  },
  {
   "cell_type": "markdown",
   "metadata": {},
   "source": [
    "The `TropCyclone` class is a derived class of `Hazard`. As such, it contains all the attributes and methods of a `Hazard`. Additionally, it contains the `tracks` variable, which is used to fill the TC tracks, if provided. \n",
    "\n",
    "Currently it contains three additional methods: `set_from_track()`, `set_random_walk()` and `plot_tracks()`. The first is used to fill the `TropCyclone` attributes from a IBTrACS track file (in csv format). The second generates synthetic tracks from the historical ones and computes the new hazard events from these tracks. The third is used to plot the `tracks` variable.\n",
    "\n",
    "When setting a tropical cyclone from a track, the centroids can be provided. If no centroids are provided, the global centroids `GLB_NatID_grid_0360as_adv_2.mat` are used (as explained in [Centroids class](Hands-on_III.ipynb#Centroids-class)). The method used to calculate the wind gusts (the hazard intensity) can also be configured. The default (and only implemented up to now) is the method of Holland 2008."
   ]
  },
  {
   "cell_type": "code",
   "execution_count": null,
   "metadata": {},
   "outputs": [],
   "source": [
    "from climada import TropCyclone\n",
    "help(TropCyclone)"
   ]
  },
  {
   "cell_type": "markdown",
   "metadata": {},
   "source": [
    "### EXERCISE\n",
    "\n",
    "* Build a `TropCyclone` instance from the \"test/trac_brb_test.csv\" file. \n",
    "* Plot the track.\n",
    "* Print the date of the event."
   ]
  },
  {
   "cell_type": "code",
   "execution_count": null,
   "metadata": {},
   "outputs": [],
   "source": [
    "import os\n",
    "from climada import DATA_DIR\n",
    "BRB_TRACK = os.path.join(DATA_DIR, 'test', \"trac_brb_test.csv\")\n",
    "# Put your code here:\n",
    "\n"
   ]
  },
  {
   "cell_type": "code",
   "execution_count": null,
   "metadata": {},
   "outputs": [],
   "source": [
    "# SOLUTION:\n",
    "import os\n",
    "from climada import DATA_DIR\n",
    "BRB_TRACK = os.path.join(DATA_DIR, 'test', \"trac_brb_test.csv\")\n",
    "\n",
    "# When setting a tropical cyclone from a track, this can not be done at contruction\n",
    "tc_haz_brb = TropCyclone()\n",
    "tc_haz_brb.set_from_tracks(BRB_TRACK) # Default global centroids are used, which makes it slower\n",
    "\n",
    "# Plotting track\n",
    "tc_haz_brb.plot_tracks()\n",
    "\n",
    "# The start date of the events are stored in the Hazard.date variable (without time).\n",
    "# To change from ordinal format to date, we can use the datetime package\n",
    "import datetime as dt\n",
    "print('Date:', tc_haz_brb.get_date_strings())\n",
    "# Since we also have the track information, we can check it in the tracks Dataset\n",
    "print('Date and time:', tc_haz_brb.tracks[0].time[0].values)"
   ]
  },
  {
   "cell_type": "markdown",
   "metadata": {},
   "source": [
    "### EXERCISE\n",
    "\n",
    "Generate an ensamble of 9 synthetic events from the \"test/trac_brb_test.csv\" track. Use the centroids of barbados in \"test/centr_brb_test.mat\". Plot them all."
   ]
  },
  {
   "cell_type": "code",
   "execution_count": null,
   "metadata": {},
   "outputs": [],
   "source": [
    "# Put your code here\n",
    "\n",
    "\n",
    "\n"
   ]
  },
  {
   "cell_type": "code",
   "execution_count": null,
   "metadata": {},
   "outputs": [],
   "source": [
    "# SOLUTION:\n",
    "import os\n",
    "from climada import DATA_DIR, Centroids\n",
    "BRB_CENT = DATA_DIR + '/test/centr_brb_test.mat'\n",
    "BRB_TRACK = os.path.join(DATA_DIR, 'test', \"trac_brb_test.csv\")\n",
    "\n",
    "cent_brb = Centroids(BRB_CENT)\n",
    "\n",
    "tc_haz_brb = TropCyclone()\n",
    "tc_haz_brb.set_from_tracks(BRB_TRACK, centroids=cent_brb)\n",
    "tc_haz_brb.set_random_walk(ens_size=9, centroids=cent_brb)\n",
    "# Check that the data is consistent\n",
    "tc_haz_brb.check()\n",
    "print('Total number of events:', tc_haz_brb.event_id.size)\n",
    "print('Total number of tracks:', len(tc_haz_brb.tracks))\n",
    "tc_haz_brb.plot_tracks()"
   ]
  },
  {
   "cell_type": "markdown",
   "metadata": {},
   "source": [
    "### EXERCISE\n",
    "\n",
    "Read the tropical cyclones in `HAZ_DEMO_MAT` using the TropCyclone class. Check how many historical events are contained."
   ]
  },
  {
   "cell_type": "code",
   "execution_count": null,
   "metadata": {},
   "outputs": [],
   "source": [
    "# Put your code here:\n",
    "\n",
    "\n",
    "\n"
   ]
  },
  {
   "cell_type": "code",
   "execution_count": null,
   "metadata": {},
   "outputs": [],
   "source": [
    "# SOLUTION:\n",
    "from climada import HAZ_DEMO_MAT\n",
    "tc_haz = TropCyclone(HAZ_DEMO_MAT)\n",
    "print('Number of historical events:', tc_haz.orig.nonzero()[0].size)"
   ]
  }
 ],
 "metadata": {
  "kernelspec": {
   "display_name": "Python 3",
   "language": "python",
   "name": "python3"
  },
  "language_info": {
   "codemirror_mode": {
    "name": "ipython",
    "version": 3
   },
   "file_extension": ".py",
   "mimetype": "text/x-python",
   "name": "python",
   "nbconvert_exporter": "python",
   "pygments_lexer": "ipython3",
   "version": "3.6.5"
  }
 },
 "nbformat": 4,
 "nbformat_minor": 2
}
