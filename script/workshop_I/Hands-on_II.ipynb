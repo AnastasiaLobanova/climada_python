{
 "cells": [
  {
   "cell_type": "markdown",
   "metadata": {},
   "source": [
    "# climada I: Impact Functions (using numpy and matplotlib)\n",
    "\n",
    "Prepared by G. Aznar Siguan"
   ]
  },
  {
   "cell_type": "markdown",
   "metadata": {},
   "source": [
    "# ImpactFunc class\n",
    "\n",
    "Contains the definition of one impact function. The collection of `ImpactFunc` is defined in the class \n",
    "`ImpactFuncSet`, which is explained [below](#ImpactFuncSet-class)."
   ]
  },
  {
   "cell_type": "code",
   "execution_count": null,
   "metadata": {},
   "outputs": [],
   "source": [
    "from climada import ImpactFunc\n",
    "# Some degub information will appear the first time"
   ]
  },
  {
   "cell_type": "markdown",
   "metadata": {},
   "source": [
    "Let's fill the values of an impact function manually."
   ]
  },
  {
   "cell_type": "code",
   "execution_count": null,
   "metadata": {},
   "outputs": [],
   "source": [
    "imp_fun = ImpactFunc() # instance an impact function\n",
    "dir(imp_fun) # see all methods and attributes"
   ]
  },
  {
   "cell_type": "code",
   "execution_count": null,
   "metadata": {},
   "outputs": [],
   "source": [
    "imp_fun.__dict__ # see only the attributes"
   ]
  },
  {
   "cell_type": "code",
   "execution_count": null,
   "metadata": {},
   "outputs": [],
   "source": [
    "help(imp_fun) # see explanation of the class, its methods and attributes"
   ]
  },
  {
   "cell_type": "markdown",
   "metadata": {},
   "source": [
    "As you see, the attributes `intensity`, `mdd` and `paa` are numpy arrays. Check out how to initialize a numpy array."
   ]
  },
  {
   "cell_type": "markdown",
   "metadata": {},
   "source": [
    "## On numpy"
   ]
  },
  {
   "cell_type": "code",
   "execution_count": null,
   "metadata": {},
   "outputs": [],
   "source": [
    "import numpy as np\n",
    "help(np.array)"
   ]
  },
  {
   "cell_type": "markdown",
   "metadata": {},
   "source": [
    "After the creation of an array, one can check the following properties and functions:"
   ]
  },
  {
   "cell_type": "code",
   "execution_count": null,
   "metadata": {},
   "outputs": [],
   "source": [
    "np_arr = np.array([[1, 2, 3], [3, 4, 5]])\n",
    "\n",
    "print('shape:', np_arr.shape)\n",
    "print('size:', np_arr.size)\n",
    "print('dimension:', np_arr.ndim)\n",
    "print('type:', np_arr.dtype)\n",
    "print('sum elements:', np.sum(np_arr))\n",
    "print('mean elements:', np.mean(np_arr))\n",
    "print('cosinus elements: \\n', np.cos(np_arr))"
   ]
  },
  {
   "cell_type": "markdown",
   "metadata": {},
   "source": [
    "All the routines available in numpy are here: https://docs.scipy.org/doc/numpy-1.14.0/reference/routines.html.\n",
    "\n",
    "Other ways to generate a numpy.array is with the following instructions:"
   ]
  },
  {
   "cell_type": "code",
   "execution_count": null,
   "metadata": {},
   "outputs": [],
   "source": [
    "np_arr1 = np.zeros((5,)) # array of zeros with shape (5,)\n",
    "np_arr2 = np.ones((5,1)) # array of ones with shape (5, 1)\n",
    "np_arr3 = np.arange(10)  # a range (here: from 0...9)\n",
    "# (arange stands for 'a range', so that it does not conflict with the native python range command)\n",
    "np_arr4 = np.random.rand(2, 5) # 2d vector of random numbers\n",
    "np_arr5 = np.eye(3) # identity matrix\n",
    "np_arr6 = np.linspace(0, 9, num=10) # evenly spaced numbers over a interval (0,9) with 10 elements."
   ]
  },
  {
   "cell_type": "markdown",
   "metadata": {},
   "source": [
    "Check the difference between array shape (x,) and (x,1). \n",
    "To eliminate the unnecessary '1' dimension, use the `squeeze` method:"
   ]
  },
  {
   "cell_type": "code",
   "execution_count": null,
   "metadata": {},
   "outputs": [],
   "source": [
    "print(np_arr1[0])\n",
    "print(np_arr2[0])\n",
    "print(np_arr2[0][0])"
   ]
  },
  {
   "cell_type": "code",
   "execution_count": null,
   "metadata": {},
   "outputs": [],
   "source": [
    "np_arr2 = np_arr2.squeeze()\n",
    "np_arr2.shape"
   ]
  },
  {
   "cell_type": "markdown",
   "metadata": {},
   "source": [
    "Arrays can also be reshaped with the `reshape` function:"
   ]
  },
  {
   "cell_type": "code",
   "execution_count": null,
   "metadata": {},
   "outputs": [],
   "source": [
    "np_arr7 = np.arange(50)\n",
    "\n",
    "print('The original array:')\n",
    "print('shape:', np_arr7.shape)\n",
    "print('size:', np_arr7.size)\n",
    "print('ndim:', np_arr7.ndim)\n",
    "print()\n",
    "\n",
    "np_arr7 = np_arr7.reshape(5, 10)\n",
    "\n",
    "print('The reshaped array:')\n",
    "print('shape:', np_arr7.shape)\n",
    "print('size:', np_arr7.size)\n",
    "print('ndim:', np_arr7.ndim)"
   ]
  },
  {
   "cell_type": "markdown",
   "metadata": {},
   "source": [
    "The syntax for slicing operations in numpy arrays is the same as in the lists or strings. Multidimensional numpy arrays indexing and slicing using a comma:"
   ]
  },
  {
   "cell_type": "code",
   "execution_count": null,
   "metadata": {},
   "outputs": [],
   "source": [
    "np_arr8 = np.eye(5) # 2d identity array with sizes 5x5\n",
    "np_arr8[0:3, -3:]  # first 3 rows and last 2 columns"
   ]
  },
  {
   "cell_type": "markdown",
   "metadata": {},
   "source": [
    "Numpy arrays can also be accessed by logical expressions:"
   ]
  },
  {
   "cell_type": "code",
   "execution_count": null,
   "metadata": {},
   "outputs": [],
   "source": [
    "np_arr8 = np.eye(5)\n",
    "np_arr8[np_arr8>0] = 5\n",
    "np_arr8"
   ]
  },
  {
   "cell_type": "markdown",
   "metadata": {},
   "source": [
    "## Back to ImpactFunc\n",
    "\n",
    "### EXERCISE\n",
    "Fill the impact function imp_fun with dummy values"
   ]
  },
  {
   "cell_type": "code",
   "execution_count": null,
   "metadata": {},
   "outputs": [],
   "source": [
    "# Put your code here:\n",
    "# imp_fun.haz_type = ...\n",
    "# imp_fun.intensity = ...\n",
    "\n",
    "\n",
    "\n"
   ]
  },
  {
   "cell_type": "code",
   "execution_count": null,
   "metadata": {},
   "outputs": [],
   "source": [
    "# SOLUTION:\n",
    "# intensity, mdd and paa are 1-dimensional numpy arrays, hence:\n",
    "imp_fun.haz_type = 'TC'\n",
    "imp_fun.id = 3\n",
    "imp_fun.name = 'TC Building code'\n",
    "imp_fun.intensity_unit = 'm/s'\n",
    "imp_fun.intensity = np.linspace(0, 100, num=15)\n",
    "imp_fun.mdd = np.sort(np.random.rand(15))\n",
    "imp_fun.paa = np.sort(np.random.rand(15))"
   ]
  },
  {
   "cell_type": "markdown",
   "metadata": {},
   "source": [
    "### EXERCISE\n",
    "\n",
    "Check your intensity array by indexing and slicing the arrays:"
   ]
  },
  {
   "cell_type": "code",
   "execution_count": null,
   "metadata": {},
   "outputs": [],
   "source": [
    "# Put your code here\n",
    "# All values:\n",
    "\n",
    "# First to penultimate values:\n",
    "\n",
    "# Last value:\n",
    "\n",
    "# Last two values:\n",
    "\n",
    "# First 5 values:\n"
   ]
  },
  {
   "cell_type": "code",
   "execution_count": null,
   "metadata": {},
   "outputs": [],
   "source": [
    "# SOLUTION:\n",
    "# An example:\n",
    "print('All values:', imp_fun.intensity[:])\n",
    "print('First to penultimate values:', imp_fun.intensity[0:-1]) \n",
    "print('Last value:', imp_fun.intensity[-1])   \n",
    "print('Last two values:', imp_fun.intensity[-2:])   \n",
    "print('First 5 values:', imp_fun.intensity[0:5])"
   ]
  },
  {
   "cell_type": "markdown",
   "metadata": {},
   "source": [
    "### EXERCISE\n",
    "1. Get all the percentage of affected assets of your impact function (`imp_fun.paa`) such that\n",
    " the mean damage degree (`imp_fun.mdd`) AND percentage of affected assets (`imp_fun.paa`) are greater than 0.8.\n",
    "\n",
    "2. Replace those PAA values with 1.\n",
    "\n"
   ]
  },
  {
   "cell_type": "code",
   "execution_count": null,
   "metadata": {},
   "outputs": [],
   "source": [
    "# Put your code here\n",
    "print('MDD before:', imp_fun.mdd)\n",
    "print('PAA before:', imp_fun.paa)\n",
    "\n",
    "# hint: Try first \"imp_fun.mdd > 0.8 and imp_fun.paa > 0.8\" and it wont't work. \n",
    "# Check numpy documentation on logic routines: \n",
    "# https://docs.scipy.org/doc/numpy-1.14.0/reference/routines.logic.html\n",
    "\n",
    "print('MDD after:', imp_fun.mdd)\n",
    "print('PAA after:', imp_fun.paa)"
   ]
  },
  {
   "cell_type": "code",
   "execution_count": null,
   "metadata": {},
   "outputs": [],
   "source": [
    "# SOLUTION:\n",
    "print('MDD before:', imp_fun.mdd)\n",
    "print('PAA before:', imp_fun.paa)\n",
    "print()\n",
    "\n",
    "# PAA which fulfil the condition:\n",
    "to_change = np.logical_and(imp_fun.mdd > 0.8, imp_fun.paa > 0.8)\n",
    "print('Values to change: ', imp_fun.mdd[to_change])\n",
    "# Change those values\n",
    "imp_fun.mdd[to_change] = 1\n",
    "\n",
    "print()\n",
    "print('MDD after:', imp_fun.mdd)\n",
    "print('PAA after:', imp_fun.paa)"
   ]
  },
  {
   "cell_type": "markdown",
   "metadata": {},
   "source": [
    "### EXERCISE\n",
    "Compute the mean damage ratios (MDR) for each PAA and MDD of the impact function. Remember: MDR = PAA * MDD."
   ]
  },
  {
   "cell_type": "code",
   "execution_count": null,
   "metadata": {},
   "outputs": [],
   "source": [
    "# Put your code here\n",
    "\n",
    "\n",
    "\n"
   ]
  },
  {
   "cell_type": "code",
   "execution_count": null,
   "metadata": {},
   "outputs": [],
   "source": [
    "# Solution\n",
    "\n",
    "# notice that you can add new attributes to your instance:\n",
    "imp_fun.mdr = imp_fun.mdd * imp_fun.paa\n",
    "imp_fun.mdr"
   ]
  },
  {
   "cell_type": "markdown",
   "metadata": {},
   "source": [
    "So much about the attributes. The methods of the `ImpactFunc` are `check()`, `interpolate()` and `plot()`. Let's see how to use them with some exercises."
   ]
  },
  {
   "cell_type": "markdown",
   "metadata": {},
   "source": [
    "### EXERCISE\n",
    "\n",
    "Check that the values introduced in your impact function have the right length using its methods."
   ]
  },
  {
   "cell_type": "code",
   "execution_count": null,
   "metadata": {},
   "outputs": [],
   "source": [
    "# Put your code here\n",
    "# hint: if needed, use againt the ImpactFunc documentation to see which method is meant to do this.\n",
    "\n",
    "\n",
    "\n",
    "\n"
   ]
  },
  {
   "cell_type": "code",
   "execution_count": null,
   "metadata": {},
   "outputs": [],
   "source": [
    "# SOLUTION:\n",
    "imp_fun.check()"
   ]
  },
  {
   "cell_type": "markdown",
   "metadata": {},
   "source": [
    "If an impact function has a wrong value, the following error is thrown. The first line explains the ERROR and the following lines show the traceback:"
   ]
  },
  {
   "cell_type": "code",
   "execution_count": null,
   "metadata": {},
   "outputs": [],
   "source": [
    "imp_fun.intensity = np.array([0, 1])\n",
    "imp_fun.check()"
   ]
  },
  {
   "cell_type": "code",
   "execution_count": null,
   "metadata": {},
   "outputs": [],
   "source": [
    "# put the correct value of the intensity again\n",
    "imp_fun.intensity = np.linspace(0, 100, num=15)"
   ]
  },
  {
   "cell_type": "markdown",
   "metadata": {},
   "source": [
    "### EXERCISE\n",
    "\n",
    "Interpolate the PAA and MDD values to the following intensity array:"
   ]
  },
  {
   "cell_type": "code",
   "execution_count": null,
   "metadata": {},
   "outputs": [],
   "source": [
    "new_inten = np.linspace(0, 100, num=20)\n",
    "\n",
    "# Put your code here\n",
    "\n",
    "\n",
    "\n"
   ]
  },
  {
   "cell_type": "code",
   "execution_count": null,
   "metadata": {},
   "outputs": [],
   "source": [
    "# SOLUTION:\n",
    "new_inten = np.linspace(0, 100, num=20)\n",
    "new_mdd = np.interp(new_inten, imp_fun.intensity, imp_fun.mdd)\n",
    "new_paa = np.interp(new_inten, imp_fun.intensity, imp_fun.paa)"
   ]
  },
  {
   "cell_type": "markdown",
   "metadata": {},
   "source": [
    "# On matplotlib"
   ]
  },
  {
   "cell_type": "markdown",
   "metadata": {},
   "source": [
    "We are going to plot these impact function using matplotlib.\n",
    "\n",
    "jupyter allows to directly embed graphics in the notebook. This can be achieved with:\n",
    "\n",
    " * `%matplotlib notebook` will create interactive plots\n",
    " * `%matplotlib inline` will create static plots\n",
    " \n",
    " \n",
    " The static mode works usually better."
   ]
  },
  {
   "cell_type": "code",
   "execution_count": null,
   "metadata": {},
   "outputs": [],
   "source": [
    "% matplotlib inline"
   ]
  },
  {
   "cell_type": "markdown",
   "metadata": {},
   "source": [
    "This is an example of a figure with:\n",
    "    - one plot\n",
    "    - setting figure size (per default a figure is 6 x 4 inches (15.24 x 10.16 cm))\n",
    "    - two curves with color and linestyle definition\n",
    "    - axis limits\n",
    "    - axis ticks selection\n",
    "    - annotations\n",
    "    - horizontal and vertical lines\n",
    "    - shade\n",
    "    - legend"
   ]
  },
  {
   "cell_type": "code",
   "execution_count": null,
   "metadata": {},
   "outputs": [],
   "source": [
    "import matplotlib.pyplot as plt\n",
    "\n",
    "x = np.arange(0, 12, 0.1) # abscisse\n",
    "\n",
    "f, ax = plt.subplots() # generate figure and axes of subplots\n",
    "\n",
    "f.set_size_inches(24 / 2.54, 16 / 2.54) # set figure size (width, height) in inches!!\n",
    "\n",
    "ax.plot(x, np.sin(x), linestyle='dotted', color='black', label='sin(x)')  # plot with linestyle, color and label\n",
    "ax.plot(x, np.cos(x), linestyle='dashdot', color='blue', label='cos(x)')  # plot with linestyle, color and label\n",
    "\n",
    "ax.set_xlim(0, 12) # horizontal axis extents\n",
    "ax.set_ylim(-1.2, 1.2) # vertical axis extents\n",
    "\n",
    "xticks = np.arange(0, 12, np.pi/2)\n",
    "ax.set_xticks(xticks)\n",
    "xticklabels = ['$0$', r'$\\frac{\\pi}{2}$', '$\\pi$', r'$\\frac{3\\pi}{2}$', '$2\\pi$', \n",
    "    r'$\\frac{5\\pi}{2}$', '$3\\pi$', r'$\\frac{7\\pi}{2}$'] # create latex-formatted tick lables\n",
    "ax.set_xticklabels(xticklabels);\n",
    "\n",
    "ax.axvline(np.pi, color='0.1', lw=0.5)   # vertical line\n",
    "ax.text(0, 0, \"va='baseline' (default)\") # default annotation\n",
    "ax.text(5, 0, \"va='bottom'\", verticalalignment='bottom') # bottom annotation\n",
    "ax.text(5, 0, \"va='top'\", va='top')      # top annotation\n",
    "ax.text(8, 0, \"va='center'\", va='center')# center annotation\n",
    "\n",
    "ax.axhline(0, color='0.1', lw=0.5)          # horizontal line\n",
    "ax.text(np.pi, 0.80, \"ha='left' (default)\") # default annotation\n",
    "ax.text(np.pi, 0.65, \"ha='right'\", horizontalalignment='right') # right annotation\n",
    "ax.text(np.pi, 0.50, \"ha='center'\", ha='center') # center annotation\n",
    "\n",
    "ax.text(1, -0.5, \"rotated text\", color='red', rotation=90)\n",
    "\n",
    "ax.axvspan(9, 10, color='0.75')\n",
    "\n",
    "ax.legend() # generate legend\n",
    "\n",
    "ax.set_title(\"Trigonometric functions\") # figure title\n",
    "ax.set_xlabel(\"x (rad)\")  # x axis label\n",
    "ax.set_ylabel(\"y\");       # y axis label"
   ]
  },
  {
   "cell_type": "markdown",
   "metadata": {},
   "source": [
    "The number of subplots can be chosen at figure creation with `plt.subplots(nrows, ncols)`. Each axis created is used to produce a subplot.\n",
    "\n",
    "Example:"
   ]
  },
  {
   "cell_type": "code",
   "execution_count": null,
   "metadata": {},
   "outputs": [],
   "source": [
    "f, axes = plt.subplots(2, 3, sharex=True, sharey=True) # 2 row and 3 column figure.\n",
    "\n",
    "# axes are in a two-dimensional array\n",
    "for i in range(2):\n",
    "    for j in range(3):\n",
    "        axes[i, j].text(0.5, 0.5, str((i, j)), fontsize=18, ha='center', va='center')"
   ]
  },
  {
   "cell_type": "markdown",
   "metadata": {},
   "source": [
    "If you need axes that may span several rows and/ or columns, you can use `plt.Gridspec(nrows, ncols)`. \n",
    "\n",
    "Use also `plt.tight_layout` to automatically locate the axes so that the vertical and horizontal distance between them is right. `hspace` and `wspace` might be also used to set the axes distances (in width and height respectively) manually."
   ]
  },
  {
   "cell_type": "code",
   "execution_count": null,
   "metadata": {},
   "outputs": [],
   "source": [
    "gs = plt.GridSpec(3, 3)\n",
    "\n",
    "ax1 = plt.subplot(gs[0, :])    # upper axis\n",
    "ax2 = plt.subplot(gs[1, :-1])  # middle axis left\n",
    "ax3 = plt.subplot(gs[1:, -1])  # middle and bottom axis right\n",
    "ax4 = plt.subplot(gs[-1, 0])   # bottom axis left\n",
    "ax5 = plt.subplot(gs[-1, -2])  # bottom axis middle\n",
    "\n",
    "plt.tight_layout() # location of axes adjusted automatically"
   ]
  },
  {
   "cell_type": "markdown",
   "metadata": {},
   "source": [
    "You might also add the subplots one after the other, which enables you to other options, like axes sharing:"
   ]
  },
  {
   "cell_type": "code",
   "execution_count": null,
   "metadata": {},
   "outputs": [],
   "source": [
    "fig = plt.figure()\n",
    "gs = plt.GridSpec(3, 3)\n",
    "ax1 = fig.add_subplot(gs[0, :])   \n",
    "ax2 = fig.add_subplot(gs[1, :-1])\n",
    "ax3 = fig.add_subplot(gs[1:, -1])\n",
    "ax4 = fig.add_subplot(gs[-1, 0])\n",
    "ax5 = fig.add_subplot(gs[-1, -2], sharey=ax4) # share Y-axis with subplot ax4\n",
    "\n",
    "plt.setp(ax5.get_yticklabels(), visible=False) # make Y-axis ticks invisible in ax5\n",
    "\n",
    "fig.tight_layout() # location of axes adjusted automatically"
   ]
  },
  {
   "cell_type": "markdown",
   "metadata": {},
   "source": [
    "Scatter plots, errorbars and histograms:"
   ]
  },
  {
   "cell_type": "code",
   "execution_count": null,
   "metadata": {},
   "outputs": [],
   "source": [
    "data = np.random.randn(2, 100) # 2-dim normal random distribution sample\n",
    "\n",
    "data_err = np.random.randn(100,)  # 1-dim normal random distribution sample\n",
    "\n",
    "fig, axes = plt.subplots(2, 2)\n",
    "\n",
    "axes[0][0].hist(data[0])    # histogram of 1d data\n",
    "axes[0][1].scatter(data[0], data[1]) # scatter plot\n",
    "axes[1][0].errorbar(data[0], data[1], yerr=data_err, linestyle='', marker='o') # error bars\n",
    "axes[1][1].hist2d(data[0], data[1]) # 2d histogram\n",
    "\n",
    "fig.tight_layout()  # location of axes adjusted automaticaly"
   ]
  },
  {
   "cell_type": "code",
   "execution_count": null,
   "metadata": {},
   "outputs": [],
   "source": [
    "# remember that you can always use the help function to get more information about any function or class.\n",
    "#help(plt.errorbar)"
   ]
  },
  {
   "cell_type": "markdown",
   "metadata": {},
   "source": [
    "## Back to ImpactFunc"
   ]
  },
  {
   "cell_type": "markdown",
   "metadata": {},
   "source": [
    "### EXERCISE\n",
    "\n",
    "Plot the imp_fun PAA, MDD and MDR values,."
   ]
  },
  {
   "cell_type": "code",
   "execution_count": null,
   "metadata": {},
   "outputs": [],
   "source": [
    "# Put your code here:\n",
    "\n",
    "\n",
    "\n"
   ]
  },
  {
   "cell_type": "code",
   "execution_count": null,
   "metadata": {},
   "outputs": [],
   "source": [
    "imp_fun.plot()"
   ]
  },
  {
   "cell_type": "markdown",
   "metadata": {},
   "source": [
    "# ImpactFuncSet class"
   ]
  },
  {
   "cell_type": "markdown",
   "metadata": {},
   "source": [
    "Now we will gather a collection of impact functions using the `ImpactFuncSet` class. \n",
    "We will use the file `ENT_TEMPLATE_XLS` to this end."
   ]
  },
  {
   "cell_type": "code",
   "execution_count": null,
   "metadata": {},
   "outputs": [],
   "source": [
    "from climada import ImpactFuncSet, ENT_TEMPLATE_XLS"
   ]
  },
  {
   "cell_type": "markdown",
   "metadata": {},
   "source": [
    "The impact function values can be filled at instantation or using the method `read()`."
   ]
  },
  {
   "cell_type": "code",
   "execution_count": null,
   "metadata": {},
   "outputs": [],
   "source": [
    "# File read and impact functions filled at construction\n",
    "imp_fun_set = ImpactFuncSet(ENT_TEMPLATE_XLS)"
   ]
  },
  {
   "cell_type": "code",
   "execution_count": null,
   "metadata": {},
   "outputs": [],
   "source": [
    "# Read and fill after construction.\n",
    "imp_fun_set = ImpactFuncSet()\n",
    "imp_fun_set.read(ENT_TEMPLATE_XLS)"
   ]
  },
  {
   "cell_type": "markdown",
   "metadata": {},
   "source": [
    "See which impact functions are contained with the `get_ids()` method. Its output shows the hazard for which the impact function has been defined, and all the different impact functions ids contained for each hazard."
   ]
  },
  {
   "cell_type": "code",
   "execution_count": null,
   "metadata": {},
   "outputs": [],
   "source": [
    "imp_fun_set.get_ids()"
   ]
  },
  {
   "cell_type": "markdown",
   "metadata": {},
   "source": [
    "Too see how many impact functions there are, use the `num_funcs()` method. You might use `help(imp_fun_set.num_funcs)` to see the description of the method inputs."
   ]
  },
  {
   "cell_type": "code",
   "execution_count": null,
   "metadata": {},
   "outputs": [],
   "source": [
    "print('Total number of impact functions:', imp_fun_set.num_funcs())\n",
    "print('Number of impact functions with Id=1:', imp_fun_set.num_funcs(fun_id=1))\n",
    "print('Number of impact functions for tropical cyclones:', imp_fun_set.num_funcs(haz_type='TC'))"
   ]
  },
  {
   "cell_type": "markdown",
   "metadata": {},
   "source": [
    "Other methods are `remove_func()`, `add_func()`, `get_hazard_types()` and `plot()`. The `append()` and `clear()` methods are used to merge with an other `ImpactFuncSet` instance and to clear all the variable contents, respectively."
   ]
  },
  {
   "cell_type": "markdown",
   "metadata": {},
   "source": [
    "### EXERCISE\n",
    "\n",
    "Remove the impact function of hazard 'TC' with id 3. \n",
    "After this, add our previos ImpactFunc imp_fun to the current ImpactFuncSet."
   ]
  },
  {
   "cell_type": "code",
   "execution_count": null,
   "metadata": {},
   "outputs": [],
   "source": [
    "# Previous impact function\n",
    "imp_fun = ImpactFunc()\n",
    "imp_fun.haz_type = 'TC'\n",
    "imp_fun.id = 3\n",
    "imp_fun.name = 'TC Building code'\n",
    "imp_fun.intensity_unit = 'm/s'\n",
    "imp_fun.intensity = np.linspace(0, 100, num=15)\n",
    "imp_fun.mdd = np.sort(np.random.rand(15))\n",
    "imp_fun.paa = np.sort(np.random.rand(15))\n",
    "\n",
    "# Put your code here\n",
    "# hint: check available methods in ImpactFuncSet class.\n",
    "\n"
   ]
  },
  {
   "cell_type": "code",
   "execution_count": null,
   "metadata": {},
   "outputs": [],
   "source": [
    "# SOLUTION:\n",
    "# Previous impact function\n",
    "imp_fun = ImpactFunc()\n",
    "imp_fun.haz_type = 'TC'\n",
    "imp_fun.id = 3\n",
    "imp_fun.name = 'TC Building code'\n",
    "imp_fun.intensity_unit = 'm/s'\n",
    "imp_fun.intensity = np.linspace(0, 100, num=15)\n",
    "imp_fun.mdd = np.sort(np.random.rand(15))\n",
    "imp_fun.paa = np.sort(np.random.rand(15))\n",
    "\n",
    "# Remove and add\n",
    "imp_fun_set.remove_func(fun_id=3, haz_type='TC')\n",
    "print('Total number of impact functions after removal:', imp_fun_set.num_funcs())\n",
    "imp_fun_set.add_func(imp_fun)\n",
    "print('Total number of impact functions after addition:', imp_fun_set.num_funcs())\n"
   ]
  },
  {
   "cell_type": "markdown",
   "metadata": {},
   "source": [
    "### EXERCISE\n",
    "\n",
    "Remove all impact functions of the hazard volcano ('VQ') and get all the remaing hazard type contained."
   ]
  },
  {
   "cell_type": "code",
   "execution_count": null,
   "metadata": {},
   "outputs": [],
   "source": [
    "# Put your code here\n",
    "\n",
    "\n",
    "\n"
   ]
  },
  {
   "cell_type": "code",
   "execution_count": null,
   "metadata": {},
   "outputs": [],
   "source": [
    "# SOLUTION:\n",
    "imp_fun_set.remove_func(haz_type='VQ')\n",
    "imp_fun_set.get_hazard_types()"
   ]
  },
  {
   "cell_type": "markdown",
   "metadata": {},
   "source": [
    "### EXERCISE\n",
    "Plot the impact function of the hazard flood ('FL')."
   ]
  },
  {
   "cell_type": "code",
   "execution_count": null,
   "metadata": {},
   "outputs": [],
   "source": [
    "# Put your code here\n",
    "\n",
    "\n",
    "\n"
   ]
  },
  {
   "cell_type": "code",
   "execution_count": null,
   "metadata": {},
   "outputs": [],
   "source": [
    "# SOLUTION:\n",
    "\n",
    "imp_fun_set.get_func(haz_type='FL')[0].plot()\n",
    "# OR\n",
    "imp_fun_set.plot(haz_type='FL')"
   ]
  },
  {
   "cell_type": "markdown",
   "metadata": {},
   "source": [
    "ImpactFuncSet can plot several functions as well. This is done using the `Graph2D` class in the `climada.util.plot` module.\n",
    "\n",
    "When the number of functions is too high, however, the arrangement of the subplots might not be optimal. This is why the plot function returns the figure and axes as variables, so that the user might be able to modify the plots to his needs:"
   ]
  },
  {
   "cell_type": "code",
   "execution_count": null,
   "metadata": {},
   "outputs": [],
   "source": [
    "# If you don't want to modify the figure:\n",
    "imp_fun_set.plot()\n",
    "\n",
    "# If you want to modify the figure:\n",
    "fig, axes = imp_fun_set.plot()"
   ]
  },
  {
   "cell_type": "markdown",
   "metadata": {},
   "source": [
    "### EXERCISE\n",
    "Plot the two impact functions of the tropical cyclone and make them look nice for you. \n",
    "You might want to share the y axis and change the title or labels, for instance."
   ]
  },
  {
   "cell_type": "code",
   "execution_count": null,
   "metadata": {},
   "outputs": [],
   "source": [
    "# Put your code here\n",
    "\n",
    "\n",
    "\n"
   ]
  },
  {
   "cell_type": "code",
   "execution_count": null,
   "metadata": {},
   "outputs": [],
   "source": [
    "# SOLUTION:\n",
    "fig, axes = imp_fun_set.plot(haz_type='TC')\n",
    "axes[0].get_shared_y_axes().join(axes[0], axes[1])\n",
    "axes[0].set_title('TC Default')\n",
    "axes[1].set_yticklabels([])\n",
    "axes[1].set_ylabel('')\n",
    "axes[1].set_title('TC Building code')\n",
    "fig.suptitle('Tropical Cyyclone impact functions')\n",
    "\n",
    "plt.tight_layout()\n",
    "plt.subplots_adjust(top=0.85)"
   ]
  }
 ],
 "metadata": {
  "kernelspec": {
   "display_name": "Python 3",
   "language": "python",
   "name": "python3"
  },
  "language_info": {
   "codemirror_mode": {
    "name": "ipython",
    "version": 3
   },
   "file_extension": ".py",
   "mimetype": "text/x-python",
   "name": "python",
   "nbconvert_exporter": "python",
   "pygments_lexer": "ipython3",
   "version": "3.6.5"
  }
 },
 "nbformat": 4,
 "nbformat_minor": 2
}
