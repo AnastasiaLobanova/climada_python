{
 "cells": [
  {
   "cell_type": "markdown",
   "metadata": {},
   "source": [
    "# climada IV: Exposures' BlackMarble\n",
    "\n",
    "Prepared by G. Aznar Siguan"
   ]
  },
  {
   "cell_type": "markdown",
   "metadata": {},
   "source": [
    "# BlackMarble class\n",
    "\n",
    "This class models a country or region interpolating the GDP and income group values through the night light intensities for a specific year.\n",
    "\n",
    "The night light images used are the following:\n",
    "- year 2012 and 2016: https://earthobservatory.nasa.gov/Features/NightLights (15 arcsec resolution (~500m))\n",
    "- from 1992 until 2013 (except 2012): https://ngdc.noaa.gov/eog/dmsp/downloadV4composites.html (30 arcsec resolution (~1km))\n",
    "\n",
    "All the other years use the night lights of the closest available year.\n",
    "\n",
    "Regarding the GDP and income group values, they are obtained from the [World Bank](https://data.worldbank.org) using the [pandas-datareader](https://pandas-datareader.readthedocs.io/en/latest/remote_data.html) API. If a value is missing, the value of the closest year is considered. When no values are provided from the World Bank, we use the [Natural Earth](https://www.naturalearthdata.com) repository values.\n",
    "\n",
    "The `BlackMarble` class inherits from the [Exposures](Hands-on_III.ipynb#Exposures-class) class. It provides a `set_countries()` method which enables to model a country using different settings. The first time a night light image is used, it is downloaded and stored locally. This might take some time."
   ]
  },
  {
   "cell_type": "markdown",
   "metadata": {},
   "source": [
    "With the next commands, we can model Iran and Turkey in the years 1992 and 2013 with the default resolution ~1km."
   ]
  },
  {
   "cell_type": "code",
   "execution_count": null,
   "metadata": {},
   "outputs": [],
   "source": [
    "% matplotlib inline\n",
    "from climada import BlackMarble\n",
    "\n",
    "irn_tur = BlackMarble()\n",
    "irn_tur.set_countries(['Iran', 'Turkey'], 1992, res_km=1.0)\n",
    "irn_tur.plot(buffer_deg=0)\n",
    "\n",
    "irn_tur = BlackMarble()\n",
    "irn_tur.set_countries(['Iran', 'Turkey'], 2013, res_km=1.0)\n",
    "irn_tur.plot(buffer_deg=0)"
   ]
  },
  {
   "cell_type": "markdown",
   "metadata": {},
   "source": [
    "Sea points can be added with the desired resolution. Its value will be 0."
   ]
  },
  {
   "cell_type": "code",
   "execution_count": null,
   "metadata": {},
   "outputs": [],
   "source": [
    "aus = BlackMarble()\n",
    "aus.set_countries(['Australia'], 2013, res_km=2.0, sea_res=(200, 50))\n",
    "aus.plot(buffer_deg=0)"
   ]
  },
  {
   "cell_type": "markdown",
   "metadata": {},
   "source": [
    "Higher resolution is obtained by interpolating the night lights."
   ]
  },
  {
   "cell_type": "code",
   "execution_count": null,
   "metadata": {},
   "outputs": [],
   "source": [
    "che = BlackMarble()\n",
    "che.set_countries(['Switzerland'], 2013, res_km=0.3)\n",
    "che.plot(buffer_deg=0, gridsize=200)"
   ]
  },
  {
   "cell_type": "code",
   "execution_count": null,
   "metadata": {},
   "outputs": [],
   "source": [
    "chn = BlackMarble()\n",
    "chn.set_countries(['China'], 2013, res_km=10.0)\n",
    "chn.plot(buffer_deg=0, gridsize=200)"
   ]
  },
  {
   "cell_type": "markdown",
   "metadata": {},
   "source": [
    "If you don't write the country name right, the error log will provide you with possible similar options."
   ]
  },
  {
   "cell_type": "code",
   "execution_count": null,
   "metadata": {},
   "outputs": [],
   "source": [
    "hkg = BlackMarble()\n",
    "try:\n",
    "    hkg.set_countries(['Hong Kong'], 2013, res_km=0.5)\n",
    "except ValueError:\n",
    "    print('Error caught.')"
   ]
  },
  {
   "cell_type": "code",
   "execution_count": null,
   "metadata": {},
   "outputs": [],
   "source": [
    "hkg = BlackMarble()\n",
    "hkg.set_countries(['Hong Kong S.A.R.'], 2013, res_km=0.2)\n",
    "hkg.plot(buffer_deg=0)"
   ]
  }
 ],
 "metadata": {
  "kernelspec": {
   "display_name": "Python 3",
   "language": "python",
   "name": "python3"
  },
  "language_info": {
   "codemirror_mode": {
    "name": "ipython",
    "version": 3
   },
   "file_extension": ".py",
   "mimetype": "text/x-python",
   "name": "python",
   "nbconvert_exporter": "python",
   "pygments_lexer": "ipython3",
   "version": "3.6.5"
  }
 },
 "nbformat": 4,
 "nbformat_minor": 2
}
