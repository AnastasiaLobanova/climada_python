{
 "cells": [
  {
   "cell_type": "markdown",
   "metadata": {},
   "source": [
    "# CLIMADA DEMO\n",
    "\n",
    "Prepared by G. Aznar Siguan"
   ]
  },
  {
   "cell_type": "markdown",
   "metadata": {},
   "source": [
    "The functionality of climada is gathered in the following classes:\n",
    "* Entity: socio-economic models/data\n",
    "  * Exposures: exposed values\n",
    "  * ImpactFuncSet: collection of impact functions per hazard\n",
    "  * DiscRates: discount rates\n",
    "  * MeasureSet: collection of measures for adaptation\n",
    "* Hazard: meteorological models/data\n",
    "  * TropCyclone: tropical cyclone hazards\n",
    "* Impact: impact results\n",
    "\n",
    "Currently climada is able to read and load data of files containing the already modelled data (as for instance products of the climada MATLAB code), to visualize those and perform some basic analysis, and to compute the impact. Climada in Python can also model tropical cyclones from the IBTrACS tracks repository and generate probabilistic ones.\n",
    "\n",
    "After the installation of climada, and with the climada_env virtual environment activated (if using virutal environments), some of climada classes, functions and constants are directly ready to import. For developers: they are the ones which are defined inside the \\__all\\__ command on top of each climada module."
   ]
  },
  {
   "cell_type": "markdown",
   "metadata": {},
   "source": [
    "# Case: Hurricane Andrew (Florida 1992)"
   ]
  },
  {
   "cell_type": "markdown",
   "metadata": {},
   "source": [
    "## Entity\n",
    "\n",
    "The entity class is just a container for the exposures, impact functions, discount reates and measures. It can be set with default values just by instantiation.\n",
    " \n",
    "The data used as default is configurable through a configuration file. Climada comes with a configuration file and the user is free to define his own file by following the instructions in [Configuration options](https://github.com/davidnbresch/climada_python/blob/master/README.md)."
   ]
  },
  {
   "cell_type": "code",
   "execution_count": null,
   "metadata": {
    "scrolled": true
   },
   "outputs": [],
   "source": [
    "from climada import Entity\n",
    "ent_fl = Entity() # Entity class instantiation with default values"
   ]
  },
  {
   "cell_type": "markdown",
   "metadata": {},
   "source": [
    "The `impact_funcs` attribute is of type `ImpactFuncSet`. As such, it contains different impact functions for different hazards:"
   ]
  },
  {
   "cell_type": "code",
   "execution_count": null,
   "metadata": {},
   "outputs": [],
   "source": [
    "% matplotlib inline\n",
    "print(\"List of impact function's ids for every hazard type:\")\n",
    "print(ent_fl.impact_funcs.get_ids()) # List of impact function's ids for every hazard type\n",
    "print('\\nImpact functions graphs:')\n",
    "ent_fl.impact_funcs.plot('TC'); # tropical cyclone impact functions\n",
    "ent_fl.impact_funcs.plot('EQ'); # earthquake impact functions"
   ]
  },
  {
   "cell_type": "markdown",
   "metadata": {},
   "source": [
    "Information and exercises about impact functions, numpy and matplotlib in [Hands-on_II](Hands-on_II.ipynb#climada-I:-Impact-Functions-(using-numpy and-matplotlib).\n",
    "\n",
    "The `measures` attribute is of type `MeasureSet`. This class is a container of `Measure` instances, the same as `ImpactFuncSet` containing several `ImpactFunc`. This class is not used for impact calculations, but for building adaptation strategies:"
   ]
  },
  {
   "cell_type": "code",
   "execution_count": null,
   "metadata": {},
   "outputs": [],
   "source": [
    "help(ent_fl.measures)"
   ]
  },
  {
   "cell_type": "markdown",
   "metadata": {},
   "source": [
    "The `disc_rates` attribute is of type `DiscRates` and it simply contains the discount rates for every year, currently:"
   ]
  },
  {
   "cell_type": "code",
   "execution_count": null,
   "metadata": {},
   "outputs": [],
   "source": [
    "ent_fl.disc_rates.plot()"
   ]
  },
  {
   "cell_type": "markdown",
   "metadata": {},
   "source": [
    "Finally, the `exposures` attribute contains geolocalized values of anything exposed to the hazard, let it be monetary value of assets or number of human lifes, for example. It is of type `Exposures`. \n",
    "\n",
    "In this case, we want to fix the exposures for the assets located in Florida. We will use the data in file `ENT_FL_MAT`."
   ]
  },
  {
   "cell_type": "code",
   "execution_count": null,
   "metadata": {},
   "outputs": [],
   "source": [
    "from climada import Exposures, ENT_FL_MAT\n",
    "\n",
    "ent_fl.exposures = Exposures(ENT_FL_MAT)\n",
    "ent_fl.exposures.value_unit = 'USD'      # fill missing ('NA') value unit \n",
    "ent_fl.exposures.plot(ignore_null=True); # plot removing 0 values"
   ]
  },
  {
   "cell_type": "markdown",
   "metadata": {},
   "source": [
    "The detailed description and exercises on the `Exposures` class can be found in [Hands-on_III - Exposures](Hands-on_III.ipynb#Exposures-class). There is a brief explanation of the libraries pandas and cartopy as well."
   ]
  },
  {
   "cell_type": "markdown",
   "metadata": {},
   "source": [
    "## Hazard tropical cyclone\n",
    "\n",
    "### Centroids\n",
    "\n",
    "The centroids are the geographical coordinates where there is information about the hazard. Usually, the hazard events are interpolated to these coordinates. They can be defined through the class `Centroids`.\n",
    "\n",
    "In this example, we will a grid that covers Florida and the hurricane Andrew. This can be something like that:"
   ]
  },
  {
   "cell_type": "code",
   "execution_count": null,
   "metadata": {},
   "outputs": [],
   "source": [
    "import numpy as np\n",
    "from climada import Centroids\n",
    "cent_fl = Centroids()\n",
    "cent_fl.coord = (np.mgrid[22 : 35 : complex(0, 100), -94 : -71 : complex(0, 100)]).reshape(2, 10000).transpose()\n",
    "cent_fl.id = np.arange(cent_fl.lat.size)\n",
    "cent_fl.plot();"
   ]
  },
  {
   "cell_type": "markdown",
   "metadata": {},
   "source": [
    "See [Hands-on_III - Centroids](Hands-on_III.ipynb#Centroids-class)."
   ]
  },
  {
   "cell_type": "markdown",
   "metadata": {},
   "source": [
    "### TropCyclone"
   ]
  },
  {
   "cell_type": "markdown",
   "metadata": {},
   "source": [
    "Tropical cyclones can be modelled from historical event tracks, in particular from [IBTrACS](https://www.ncdc.noaa.gov/ibtracs/) data. `TC_ANDREW_FL` file contains the IBrTRACS track of hurricane Andrew in 1992 over Florida."
   ]
  },
  {
   "cell_type": "code",
   "execution_count": null,
   "metadata": {},
   "outputs": [],
   "source": [
    "from climada import TropCyclone, TC_ANDREW_FL"
   ]
  },
  {
   "cell_type": "code",
   "execution_count": null,
   "metadata": {},
   "outputs": [],
   "source": [
    "tc_andrew = TropCyclone() # instance TropCyclone\n",
    "tc_andrew.set_from_tracks(TC_ANDREW_FL, centroids=cent_fl) # set hazard from track file with given centroids\n",
    "tc_andrew.plot_tracks()                            # plot track\n",
    "tc_andrew.plot_intensity(tc_andrew.event_name[0]); # plot intensity of the hazard"
   ]
  },
  {
   "cell_type": "markdown",
   "metadata": {},
   "source": [
    "Synthetic events from the historical events can be generated in a `TropCyclone`:"
   ]
  },
  {
   "cell_type": "code",
   "execution_count": null,
   "metadata": {},
   "outputs": [],
   "source": [
    "tc_andrew.set_random_walk(centroids=cent_fl)\n",
    "print('Number of tracks:', len(tc_andrew.tracks))\n",
    "tc_andrew.plot_tracks() # Blue lines represent historical events, black synthetic"
   ]
  },
  {
   "cell_type": "markdown",
   "metadata": {},
   "source": [
    "A more completed set of tropical cyclones events in Florida can be found in file `HAZ_DEMO_MAT`. This contains 1445 historical events from year 1851 to 2011 and 9 synthetical events for each historical one."
   ]
  },
  {
   "cell_type": "code",
   "execution_count": null,
   "metadata": {},
   "outputs": [],
   "source": [
    "from climada import HAZ_DEMO_MAT\n",
    "tc_fl = TropCyclone(HAZ_DEMO_MAT, 'Historic and synthetic tropical cyclones in Florida from 1851 to 2011.')"
   ]
  },
  {
   "cell_type": "markdown",
   "metadata": {},
   "source": [
    "There are two `ANDREW` events in Florida:"
   ]
  },
  {
   "cell_type": "code",
   "execution_count": null,
   "metadata": {},
   "outputs": [],
   "source": [
    "print('The first ANDREW happened in', tc_fl.get_date_strings('ANDREW')[0])\n",
    "print('The second ANDREW happened in', tc_fl.get_date_strings('ANDREW')[1])\n",
    "tc_fl.plot_intensity(event='ANDREW'); # Plot all ANDREW events"
   ]
  },
  {
   "cell_type": "markdown",
   "metadata": {},
   "source": [
    "In a specific point, for example (lat, lon) = (26, -81), the tropical cyclones have had the following maximum intensities:"
   ]
  },
  {
   "cell_type": "code",
   "execution_count": null,
   "metadata": {},
   "outputs": [],
   "source": [
    "tc_fl.plot_intensity(centr=(26, -81));"
   ]
  },
  {
   "cell_type": "markdown",
   "metadata": {},
   "source": [
    "Also, the intensity maps for different return periods can be representative for such an amount of events:"
   ]
  },
  {
   "cell_type": "code",
   "execution_count": null,
   "metadata": {},
   "outputs": [],
   "source": [
    "tc_fl.plot_stats();"
   ]
  },
  {
   "cell_type": "markdown",
   "metadata": {},
   "source": [
    "To see how the `TropCyclone` class works, see [Hands-on_IV](Hands-on_IV.ipynb#climada-III:-Hazard-and-TropicCyclone-(using-xarray-and-pint), where the `Hazard` class and `trop_cyclone` module are explained, as well as the xarray and pint libraries."
   ]
  },
  {
   "cell_type": "markdown",
   "metadata": {},
   "source": [
    "## Impact"
   ]
  },
  {
   "cell_type": "markdown",
   "metadata": {},
   "source": [
    "The impact of hazard events over an entity can be computed easily from the previously explained classes. The `Impact` class computes this information.\n",
    "\n",
    "This is the impact from ANDREW tropical cyclone and its probabilistic events:"
   ]
  },
  {
   "cell_type": "code",
   "execution_count": null,
   "metadata": {},
   "outputs": [],
   "source": [
    "from climada import Impact\n",
    "imp_andrew = Impact()\n",
    "# Compute impact of hurricane Andrew in tc_andrew over Florida entity:\n",
    "imp_andrew.calc(ent_fl.exposures, ent_fl.impact_funcs, tc_andrew)\n",
    "imp_andrew.plot_at_exposure(); # accumulated losses for each exposure"
   ]
  },
  {
   "cell_type": "markdown",
   "metadata": {},
   "source": [
    "This is the impact exceedence frequency curve of all the historical and synthetic events over Florida:"
   ]
  },
  {
   "cell_type": "code",
   "execution_count": null,
   "metadata": {},
   "outputs": [],
   "source": [
    "# remove previous assigned centroids\n",
    "ent_fl.exposures.assigned = dict()\n",
    "# compute new impact\n",
    "imp_fl = Impact()\n",
    "# Compute impact over Florida:\n",
    "imp_fl.calc(ent_fl.exposures, ent_fl.impact_funcs, tc_fl)\n",
    "freq_curve_fl = imp_fl.calc_freq_curve() # impact exceedence frequency curve\n",
    "freq_curve_fl.plot();"
   ]
  },
  {
   "cell_type": "markdown",
   "metadata": {},
   "source": [
    "Finally, we can save our variables in pickle format using the `save` function. This will save your results in the folder specified in the configuration file. The default folder is a `results` folder which is created in the current path."
   ]
  },
  {
   "cell_type": "code",
   "execution_count": null,
   "metadata": {},
   "outputs": [],
   "source": [
    "from climada import save\n",
    "save('impact_florida.pkl', imp_fl)"
   ]
  },
  {
   "cell_type": "markdown",
   "metadata": {},
   "source": [
    "Later, the data can be read as follows:"
   ]
  },
  {
   "cell_type": "code",
   "execution_count": null,
   "metadata": {},
   "outputs": [],
   "source": [
    "import pickle\n",
    "import os\n",
    "abs_path = os.path.join(os.getcwd(), 'results/impact_florida.pkl') # absolute path\n",
    "with open(abs_path, 'rb') as f:\n",
    "    data = pickle.load(f)\n",
    "\n",
    "print('Data read:', type(data))"
   ]
  },
  {
   "cell_type": "markdown",
   "metadata": {},
   "source": [
    "# Your case"
   ]
  },
  {
   "cell_type": "markdown",
   "metadata": {},
   "source": [
    "### EXERCISE:\n",
    "\n",
    "1. Build an entity. It might be one from your previous runs in MATLAB. Make sure i'is saved in version > v7.3 if it's a MATLAB file. If it's not, you'll get an error message. Then, you can save it again in MATLAB like that:\n",
    "`save('file_name.mat','variable_name', '-v7.3')`\n",
    "\n",
    "2. Build a hazard. It might also come from a previous run in MATLAB. This file might already contain the centroids. If not, define the centroids as well and use them in your calculations.\n",
    "\n",
    "3. Compute the impact.\n",
    "\n",
    "4. Visualization. Plot:\n",
    "   * the damage functions for the hazard\n",
    "   * the entity values map\n",
    "   * the strongest event intensity\n",
    "   * the maximum hazard intensity of all the events in Zürich (47.38, 8.54)\n",
    "   * the impact exceedence frequency curve\n"
   ]
  },
  {
   "cell_type": "code",
   "execution_count": null,
   "metadata": {},
   "outputs": [],
   "source": [
    "# Put your code here\n",
    "\n",
    "\n",
    "\n",
    "\n"
   ]
  },
  {
   "cell_type": "code",
   "execution_count": null,
   "metadata": {},
   "outputs": [],
   "source": [
    "# SOLUTION: example: winter storms in europe\n",
    "# Put any absoulte path for your files or set up the configuration variable \"repository\"\n",
    "from climada import DATA_DIR\n",
    "FILE_HAZARD = DATA_DIR + '/demo/WS_ERA40.mat' \n",
    "FILE_ENTITY = DATA_DIR + '/demo/WS_Europe.xls'\n",
    "\n",
    "from climada import Hazard, Exposures, ImpactFuncSet, Impact\n",
    "\n",
    "# 1. Entity: we only need impact functions and exposures to compute the impact\n",
    "# Exposures\n",
    "exp_ws_eu = Exposures()\n",
    "# as seen in Hands-on_III, the variable names in the file can be changed\n",
    "var_names = exp_ws_eu.get_def_file_var_names('.xls')\n",
    "var_names['col_name']['imp'] = 'VulnCurveID'\n",
    "exp_ws_eu.read(FILE_ENTITY, 'EU entity for winter storms.', var_names=var_names)\n",
    "\n",
    "# Impact functions\n",
    "impf_ws_eu = ImpactFuncSet()\n",
    "var_names = impf_ws_eu.get_def_file_var_names('.xls')\n",
    "var_names['col_name']['func_id'] = 'VulnCurveID'\n",
    "impf_ws_eu.read(FILE_ENTITY, 'Impact functions for winter storms in EU.', var_names=var_names)\n",
    "\n",
    "# 2. Hazard\n",
    "haz_ws_eu = Hazard('WS', FILE_HAZARD, 'WS EU ERA 40')\n",
    "\n",
    "# 3. Impact\n",
    "imp_ws_eu = Impact()\n",
    "imp_ws_eu.calc(exp_ws_eu, impf_ws_eu, haz_ws_eu)\n",
    "\n",
    "# 4.\n",
    "# the damage functions for the hazard\n",
    "impf_ws_eu.plot()\n",
    "\n",
    "# the entity values map\n",
    "exp_ws_eu.plot(pop_name=False)\n",
    "\n",
    "# the strongest event\n",
    "haz_ws_eu.plot_intensity(-1) # might be better to use an other earth projection?\n",
    "\n",
    "# the hazard intensity maps for different return periods\n",
    "haz_ws_eu.plot_intensity(centr=(47.38, 8.54))\n",
    "\n",
    "# the impact exceedence frequency curve\n",
    "imp_exc_curve = imp_ws_eu.calc_freq_curve()\n",
    "imp_exc_curve.plot()"
   ]
  }
 ],
 "metadata": {
  "kernelspec": {
   "display_name": "Python 3",
   "language": "python",
   "name": "python3"
  },
  "language_info": {
   "codemirror_mode": {
    "name": "ipython",
    "version": 3
   },
   "file_extension": ".py",
   "mimetype": "text/x-python",
   "name": "python",
   "nbconvert_exporter": "python",
   "pygments_lexer": "ipython3",
   "version": "3.6.3"
  }
 },
 "nbformat": 4,
 "nbformat_minor": 2
}
